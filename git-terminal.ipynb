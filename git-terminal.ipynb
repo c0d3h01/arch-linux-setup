git config --global user.name "c0d3h01"

git config --global user.email "harshalsawant2004h@gmail.com"

ssh-keygen -t ed25519 -C "harshalsawant2004h@gmail.com"

ssh-add ~/.ssh/id_ed25519

cat ~/.ssh/id_ed25519.pub

ssh -T git@github.com
